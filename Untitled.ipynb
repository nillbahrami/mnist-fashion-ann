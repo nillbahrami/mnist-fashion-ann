{
 "cells": [
  {
   "cell_type": "code",
   "execution_count": 2,
   "id": "126b7d04",
   "metadata": {},
   "outputs": [],
   "source": [
    "import tensorflow as tf\n",
    "import matplotlib.pyplot as plt"
   ]
  },
  {
   "cell_type": "code",
   "execution_count": 6,
   "id": "5b6fdc2d",
   "metadata": {},
   "outputs": [],
   "source": [
    "def train_mnist_conv():\n",
    "  \n",
    "    class MyCallback(tf.keras.callbacks.Callback):\n",
    "      def on_epoch_end(self, epochs, logs={}):\n",
    "        if(logs.get('acc') is not None and logs.get('acc') >= 0.998):\n",
    "          print(\"\\nReached 99.8% accuracy so cancelling training!\")\n",
    "          self.model.stop_training = True\n",
    "\n",
    "    mnist = tf.keras.datasets.mnist\n",
    "    (training_images, training_labels), (test_images, test_labels) = mnist.load_data()\n",
    "    callbacks = MyCallback()\n",
    "    training_images = training_images.reshape(60000, 28, 28, 1)\n",
    "    test_images = test_images.reshape(10000, 28, 28, 1)\n",
    "    training_images = training_images / 255\n",
    "    test_images = test_images / 255\n",
    "\n",
    "\n",
    "    model = tf.keras.models.Sequential([\n",
    "        tf.keras.layers.Conv2D(32, (3, 3), activation = 'relu', input_shape = (28, 28, 1)),\n",
    "        tf.keras.layers.MaxPooling2D(2, 2),\n",
    "        tf.keras.layers.Flatten(),\n",
    "        tf.keras.layers.Dense(64, activation='relu'),\n",
    "        tf.keras.layers.Dense(10, activation='softmax')\n",
    "    ])\n",
    "\n",
    "    model.compile(optimizer='adam', loss='sparse_categorical_crossentropy', metrics=['accuracy'])\n",
    "    history = model.fit(\n",
    "        training_images,\n",
    "        training_labels,\n",
    "        epochs=15, \n",
    "        callbacks=[callbacks]\n",
    "    )\n",
    "    return history.epoch, history.history['acc'][-1]"
   ]
  },
  {
   "cell_type": "code",
   "execution_count": 8,
   "id": "d54d6c02",
   "metadata": {},
   "outputs": [
    {
     "name": "stdout",
     "output_type": "stream",
     "text": [
      "Epoch 1/15\n",
      "1875/1875 [==============================] - 17s 9ms/step - loss: 0.1745 - accuracy: 0.9488\n",
      "Epoch 2/15\n",
      "1875/1875 [==============================] - 16s 9ms/step - loss: 0.0599 - accuracy: 0.9823\n",
      "Epoch 3/15\n",
      "1875/1875 [==============================] - 16s 9ms/step - loss: 0.0397 - accuracy: 0.9879\n",
      "Epoch 4/15\n",
      "1875/1875 [==============================] - 16s 8ms/step - loss: 0.0291 - accuracy: 0.9909\n",
      "Epoch 5/15\n",
      "1875/1875 [==============================] - 17s 9ms/step - loss: 0.0209 - accuracy: 0.9936\n",
      "Epoch 6/15\n",
      "1875/1875 [==============================] - 16s 9ms/step - loss: 0.0152 - accuracy: 0.9950\n",
      "Epoch 7/15\n",
      "1875/1875 [==============================] - 16s 9ms/step - loss: 0.0111 - accuracy: 0.9963\n",
      "Epoch 8/15\n",
      "1875/1875 [==============================] - 17s 9ms/step - loss: 0.0105 - accuracy: 0.9963\n",
      "Epoch 9/15\n",
      "1875/1875 [==============================] - 16s 9ms/step - loss: 0.0066 - accuracy: 0.9980\n",
      "Epoch 10/15\n",
      "1875/1875 [==============================] - 16s 9ms/step - loss: 0.0068 - accuracy: 0.9976\n",
      "Epoch 11/15\n",
      "1875/1875 [==============================] - 16s 9ms/step - loss: 0.0064 - accuracy: 0.9979\n",
      "Epoch 12/15\n",
      "1875/1875 [==============================] - 17s 9ms/step - loss: 0.0050 - accuracy: 0.9985\n",
      "Epoch 13/15\n",
      "1875/1875 [==============================] - 17s 9ms/step - loss: 0.0031 - accuracy: 0.9991\n",
      "Epoch 14/15\n",
      "1875/1875 [==============================] - 22s 12ms/step - loss: 0.0039 - accuracy: 0.9987\n",
      "Epoch 15/15\n",
      "1875/1875 [==============================] - 23s 12ms/step - loss: 0.0031 - accuracy: 0.9991\n"
     ]
    },
    {
     "ename": "KeyError",
     "evalue": "'acc'",
     "output_type": "error",
     "traceback": [
      "\u001b[1;31m---------------------------------------------------------------------------\u001b[0m",
      "\u001b[1;31mKeyError\u001b[0m                                  Traceback (most recent call last)",
      "\u001b[1;32m<ipython-input-8-5bbdde526d1a>\u001b[0m in \u001b[0;36m<module>\u001b[1;34m\u001b[0m\n\u001b[1;32m----> 1\u001b[1;33m \u001b[0mtrain_mnist_conv\u001b[0m\u001b[1;33m(\u001b[0m\u001b[1;33m)\u001b[0m\u001b[1;33m\u001b[0m\u001b[1;33m\u001b[0m\u001b[0m\n\u001b[0m",
      "\u001b[1;32m<ipython-input-6-50f9d5725a9b>\u001b[0m in \u001b[0;36mtrain_mnist_conv\u001b[1;34m()\u001b[0m\n\u001b[0;32m     31\u001b[0m         \u001b[0mcallbacks\u001b[0m\u001b[1;33m=\u001b[0m\u001b[1;33m[\u001b[0m\u001b[0mcallbacks\u001b[0m\u001b[1;33m]\u001b[0m\u001b[1;33m\u001b[0m\u001b[1;33m\u001b[0m\u001b[0m\n\u001b[0;32m     32\u001b[0m     )\n\u001b[1;32m---> 33\u001b[1;33m     \u001b[1;32mreturn\u001b[0m \u001b[0mhistory\u001b[0m\u001b[1;33m.\u001b[0m\u001b[0mepoch\u001b[0m\u001b[1;33m,\u001b[0m \u001b[0mhistory\u001b[0m\u001b[1;33m.\u001b[0m\u001b[0mhistory\u001b[0m\u001b[1;33m[\u001b[0m\u001b[1;34m'acc'\u001b[0m\u001b[1;33m]\u001b[0m\u001b[1;33m[\u001b[0m\u001b[1;33m-\u001b[0m\u001b[1;36m1\u001b[0m\u001b[1;33m]\u001b[0m\u001b[1;33m\u001b[0m\u001b[1;33m\u001b[0m\u001b[0m\n\u001b[0m",
      "\u001b[1;31mKeyError\u001b[0m: 'acc'"
     ]
    }
   ],
   "source": [
    "train_mnist_conv()"
   ]
  },
  {
   "cell_type": "code",
   "execution_count": null,
   "id": "154cd9eb",
   "metadata": {},
   "outputs": [],
   "source": [
    "f, axarr = plt.subplots(3,4)\n",
    "FIRST_IMAGE=0\n",
    "SECOND_IMAGE=7\n",
    "THIRD_IMAGE=26\n",
    "CONVOLUTION_NUMBER = 1\n",
    "from tensorflow.keras import models\n",
    "layer_outputs = [layer.output for layer in model.layers]\n",
    "activation_model = tf.keras.models.Model(inputs = model.input, outputs = layer_outputs)\n",
    "for x in range(0,4):\n",
    "  f1 = activation_model.predict(test_images[FIRST_IMAGE].reshape(1, 28, 28, 1))[x]\n",
    "  axarr[0,x].imshow(f1[0, : , :, CONVOLUTION_NUMBER], cmap='inferno')\n",
    "  axarr[0,x].grid(False)\n",
    "  f2 = activation_model.predict(test_images[SECOND_IMAGE].reshape(1, 28, 28, 1))[x]\n",
    "  axarr[1,x].imshow(f2[0, : , :, CONVOLUTION_NUMBER], cmap='inferno')\n",
    "  axarr[1,x].grid(False)\n",
    "  f3 = activation_model.predict(test_images[THIRD_IMAGE].reshape(1, 28, 28, 1))[x]\n",
    "  axarr[2,x].imshow(f3[0, : , :, CONVOLUTION_NUMBER], cmap='inferno')\n",
    "  axarr[2,x].grid(False)\n"
   ]
  }
 ],
 "metadata": {
  "kernelspec": {
   "display_name": "Python 3",
   "language": "python",
   "name": "python3"
  },
  "language_info": {
   "codemirror_mode": {
    "name": "ipython",
    "version": 3
   },
   "file_extension": ".py",
   "mimetype": "text/x-python",
   "name": "python",
   "nbconvert_exporter": "python",
   "pygments_lexer": "ipython3",
   "version": "3.8.10"
  }
 },
 "nbformat": 4,
 "nbformat_minor": 5
}
