{
 "cells": [
  {
   "cell_type": "code",
   "execution_count": 10,
   "id": "f17286df",
   "metadata": {},
   "outputs": [],
   "source": [
    "import tensorflow as tf\n",
    "import matplotlib.pyplot as plt"
   ]
  },
  {
   "cell_type": "code",
   "execution_count": 6,
   "id": "3b4f9067",
   "metadata": {},
   "outputs": [],
   "source": [
    "def train_mnist_conv():\n",
    "  \n",
    "    class MyCallback(tf.keras.callbacks.Callback):\n",
    "      def on_epoch_end(self, epochs, logs={}):\n",
    "        if(logs.get('acc') is not None and logs.get('acc') >= 0.998):\n",
    "          print(\"\\nReached 99.8% accuracy so cancelling training!\")\n",
    "          self.model.stop_training = True\n",
    "\n",
    "    mnist = tf.keras.datasets.mnist\n",
    "    (training_images, training_labels), (test_images, test_labels) = mnist.load_data()\n",
    "    callbacks = MyCallback()\n",
    "    training_images = training_images.reshape(60000, 28, 28, 1)\n",
    "    test_images = test_images.reshape(10000, 28, 28, 1)\n",
    "    training_images = training_images / 255\n",
    "    test_images = test_images / 255\n",
    "\n",
    "\n",
    "    model = tf.keras.models.Sequential([\n",
    "        tf.keras.layers.Conv2D(32, (3, 3), activation = 'relu', input_shape = (28, 28, 1)),\n",
    "        tf.keras.layers.MaxPooling2D(2, 2),\n",
    "        tf.keras.layers.Flatten(),\n",
    "        tf.keras.layers.Dense(64, activation='relu'),\n",
    "        tf.keras.layers.Dense(10, activation='softmax')\n",
    "    ])\n",
    "\n",
    "    model.compile(optimizer='adam', loss='sparse_categorical_crossentropy', metrics=['accuracy'])\n",
    "    history = model.fit(\n",
    "        training_images,\n",
    "        training_labels,\n",
    "        epochs=15, \n",
    "        callbacks=[callbacks]\n",
    "    )\n",
    "    return history.epoch, history.history['acc'][-1]"
   ]
  },
  {
   "cell_type": "code",
   "execution_count": null,
   "id": "908db677",
   "metadata": {},
   "outputs": [
    {
     "name": "stdout",
     "output_type": "stream",
     "text": [
      "Epoch 1/15\n",
      "1875/1875 [==============================] - 17s 9ms/step - loss: 0.1745 - accuracy: 0.9488\n",
      "Epoch 2/15\n",
      "1875/1875 [==============================] - 16s 9ms/step - loss: 0.0599 - accuracy: 0.9823\n",
      "Epoch 3/15\n",
      "1875/1875 [==============================] - 16s 9ms/step - loss: 0.0397 - accuracy: 0.9879\n",
      "Epoch 4/15\n",
      "1875/1875 [==============================] - 16s 8ms/step - loss: 0.0291 - accuracy: 0.9909\n",
      "Epoch 5/15\n",
      "1875/1875 [==============================] - 17s 9ms/step - loss: 0.0209 - accuracy: 0.9936\n",
      "Epoch 6/15\n",
      "1875/1875 [==============================] - 16s 9ms/step - loss: 0.0152 - accuracy: 0.9950\n",
      "Epoch 7/15\n",
      "1875/1875 [==============================] - 16s 9ms/step - loss: 0.0111 - accuracy: 0.9963\n",
      "Epoch 8/15\n",
      "1875/1875 [==============================] - 17s 9ms/step - loss: 0.0105 - accuracy: 0.9963\n",
      "Epoch 9/15\n",
      "1875/1875 [==============================] - 16s 9ms/step - loss: 0.0066 - accuracy: 0.9980\n",
      "Epoch 10/15\n",
      "1875/1875 [==============================] - 16s 9ms/step - loss: 0.0068 - accuracy: 0.9976\n",
      "Epoch 11/15\n",
      "1875/1875 [==============================] - 16s 9ms/step - loss: 0.0064 - accuracy: 0.9979\n",
      "Epoch 12/15\n",
      "1875/1875 [==============================] - 17s 9ms/step - loss: 0.0050 - accuracy: 0.9985\n",
      "Epoch 13/15\n",
      "1875/1875 [==============================] - 17s 9ms/step - loss: 0.0031 - accuracy: 0.9991\n",
      "Epoch 14/15\n",
      "1875/1875 [==============================] - 22s 12ms/step - loss: 0.0039 - accuracy: 0.9987\n",
      "Epoch 15/15\n",
      " 429/1875 [=====>........................] - ETA: 17s - loss: 0.0017 - accuracy: 0.9996"
     ]
    }
   ],
   "source": [
    "train_mnist_conv()"
   ]
  }
 ],
 "metadata": {
  "kernelspec": {
   "display_name": "Python 3",
   "language": "python",
   "name": "python3"
  },
  "language_info": {
   "codemirror_mode": {
    "name": "ipython",
    "version": 3
   },
   "file_extension": ".py",
   "mimetype": "text/x-python",
   "name": "python",
   "nbconvert_exporter": "python",
   "pygments_lexer": "ipython3",
   "version": "3.8.10"
  }
 },
 "nbformat": 4,
 "nbformat_minor": 5
}
